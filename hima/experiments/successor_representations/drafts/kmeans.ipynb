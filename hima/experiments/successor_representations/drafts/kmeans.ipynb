{
 "cells": [
  {
   "cell_type": "code",
   "execution_count": 1,
   "id": "29b99678-837c-4eee-ae10-763bf20ac9ff",
   "metadata": {},
   "outputs": [],
   "source": [
    "from sklearn.cluster import KMeans"
   ]
  },
  {
   "cell_type": "code",
   "execution_count": 2,
   "id": "f65abb6d-aecd-4628-a52d-6b770b026bd6",
   "metadata": {},
   "outputs": [],
   "source": [
    "import numpy as np"
   ]
  },
  {
   "cell_type": "code",
   "execution_count": 3,
   "id": "402d1cc7-e28a-4b98-a9bb-acc1d33d5c57",
   "metadata": {
    "tags": []
   },
   "outputs": [],
   "source": [
    "data = np.load('../animal_ai_dataset_kmeans/data1.npy')"
   ]
  },
  {
   "cell_type": "code",
   "execution_count": 4,
   "id": "3b21fbab-c0db-4268-b461-b42f996a1591",
   "metadata": {
    "tags": []
   },
   "outputs": [
    {
     "data": {
      "text/plain": [
       "(41836, 64, 64, 3)"
      ]
     },
     "execution_count": 4,
     "metadata": {},
     "output_type": "execute_result"
    }
   ],
   "source": [
    "data.shape"
   ]
  },
  {
   "cell_type": "code",
   "execution_count": 5,
   "id": "397d8069-f335-496b-a6d6-abee277694d5",
   "metadata": {
    "tags": []
   },
   "outputs": [],
   "source": [
    "import matplotlib.pyplot as plt"
   ]
  },
  {
   "cell_type": "code",
   "execution_count": 6,
   "id": "0e4be3b8-d392-4697-9e05-d62c48db8f24",
   "metadata": {
    "tags": []
   },
   "outputs": [
    {
     "data": {
      "text/plain": [
       "<matplotlib.image.AxesImage at 0x7fea59afd610>"
      ]
     },
     "execution_count": 6,
     "metadata": {},
     "output_type": "execute_result"
    },
    {
     "data": {
      "image/png": "[encoded data removed]",
      "text/plain": [
       "<Figure size 640x480 with 1 Axes>"
      ]
     },
     "metadata": {},
     "output_type": "display_data"
    }
   ],
   "source": [
    "plt.imshow(data[50])"
   ]
  },
  {
   "cell_type": "code",
   "execution_count": 9,
   "id": "eef448de-3f18-421a-bd4b-f7c071af8388",
   "metadata": {
    "tags": []
   },
   "outputs": [
    {
     "data": {
      "text/plain": [
       "\u001b[0;31mInit signature:\u001b[0m\n",
       "\u001b[0mKMeans\u001b[0m\u001b[0;34m(\u001b[0m\u001b[0;34m\u001b[0m\n",
       "\u001b[0;34m\u001b[0m    \u001b[0mn_clusters\u001b[0m\u001b[0;34m=\u001b[0m\u001b[0;36m8\u001b[0m\u001b[0;34m,\u001b[0m\u001b[0;34m\u001b[0m\n",
       "\u001b[0;34m\u001b[0m    \u001b[0;34m*\u001b[0m\u001b[0;34m,\u001b[0m\u001b[0;34m\u001b[0m\n",
       "\u001b[0;34m\u001b[0m    \u001b[0minit\u001b[0m\u001b[0;34m=\u001b[0m\u001b[0;34m'k-means++'\u001b[0m\u001b[0;34m,\u001b[0m\u001b[0;34m\u001b[0m\n",
       "\u001b[0;34m\u001b[0m    \u001b[0mn_init\u001b[0m\u001b[0;34m=\u001b[0m\u001b[0;34m'warn'\u001b[0m\u001b[0;34m,\u001b[0m\u001b[0;34m\u001b[0m\n",
       "\u001b[0;34m\u001b[0m    \u001b[0mmax_iter\u001b[0m\u001b[0;34m=\u001b[0m\u001b[0;36m300\u001b[0m\u001b[0;34m,\u001b[0m\u001b[0;34m\u001b[0m\n",
       "\u001b[0;34m\u001b[0m    \u001b[0mtol\u001b[0m\u001b[0;34m=\u001b[0m\u001b[0;36m0.0001\u001b[0m\u001b[0;34m,\u001b[0m\u001b[0;34m\u001b[0m\n",
       "\u001b[0;34m\u001b[0m    \u001b[0mverbose\u001b[0m\u001b[0;34m=\u001b[0m\u001b[0;36m0\u001b[0m\u001b[0;34m,\u001b[0m\u001b[0;34m\u001b[0m\n",
       "\u001b[0;34m\u001b[0m    \u001b[0mrandom_state\u001b[0m\u001b[0;34m=\u001b[0m\u001b[0;32mNone\u001b[0m\u001b[0;34m,\u001b[0m\u001b[0;34m\u001b[0m\n",
       "\u001b[0;34m\u001b[0m    \u001b[0mcopy_x\u001b[0m\u001b[0;34m=\u001b[0m\u001b[0;32mTrue\u001b[0m\u001b[0;34m,\u001b[0m\u001b[0;34m\u001b[0m\n",
       "\u001b[0;34m\u001b[0m    \u001b[0malgorithm\u001b[0m\u001b[0;34m=\u001b[0m\u001b[0;34m'lloyd'\u001b[0m\u001b[0;34m,\u001b[0m\u001b[0;34m\u001b[0m\n",
       "\u001b[0;34m\u001b[0m\u001b[0;34m)\u001b[0m\u001b[0;34m\u001b[0m\u001b[0;34m\u001b[0m\u001b[0m\n",
       "\u001b[0;31mDocstring:\u001b[0m     \n",
       "K-Means clustering.\n",
       "\n",
       "Read more in the :ref:`User Guide <k_means>`.\n",
       "\n",
       "Parameters\n",
       "----------\n",
       "\n",
       "n_clusters : int, default=8\n",
       "    The number of clusters to form as well as the number of\n",
       "    centroids to generate.\n",
       "\n",
       "init : {'k-means++', 'random'}, callable or array-like of shape             (n_clusters, n_features), default='k-means++'\n",
       "    Method for initialization:\n",
       "\n",
       "    'k-means++' : selects initial cluster centroids using sampling based on\n",
       "    an empirical probability distribution of the points' contribution to the\n",
       "    overall inertia. This technique speeds up convergence. The algorithm\n",
       "    implemented is \"greedy k-means++\". It differs from the vanilla k-means++\n",
       "    by making several trials at each sampling step and choosing the best centroid\n",
       "    among them.\n",
       "\n",
       "    'random': choose `n_clusters` observations (rows) at random from data\n",
       "    for the initial centroids.\n",
       "\n",
       "    If an array is passed, it should be of shape (n_clusters, n_features)\n",
       "    and gives the initial centers.\n",
       "\n",
       "    If a callable is passed, it should take arguments X, n_clusters and a\n",
       "    random state and return an initialization.\n",
       "\n",
       "n_init : 'auto' or int, default=10\n",
       "    Number of times the k-means algorithm is run with different centroid\n",
       "    seeds. The final results is the best output of `n_init` consecutive runs\n",
       "    in terms of inertia. Several runs are recommended for sparse\n",
       "    high-dimensional problems (see :ref:`kmeans_sparse_high_dim`).\n",
       "\n",
       "    When `n_init='auto'`, the number of runs depends on the value of init:\n",
       "    10 if using `init='random'`, 1 if using `init='k-means++'`.\n",
       "\n",
       "    .. versionadded:: 1.2\n",
       "       Added 'auto' option for `n_init`.\n",
       "\n",
       "    .. versionchanged:: 1.4\n",
       "       Default value for `n_init` will change from 10 to `'auto'` in version 1.4.\n",
       "\n",
       "max_iter : int, default=300\n",
       "    Maximum number of iterations of the k-means algorithm for a\n",
       "    single run.\n",
       "\n",
       "tol : float, default=1e-4\n",
       "    Relative tolerance with regards to Frobenius norm of the difference\n",
       "    in the cluster centers of two consecutive iterations to declare\n",
       "    convergence.\n",
       "\n",
       "verbose : int, default=0\n",
       "    Verbosity mode.\n",
       "\n",
       "random_state : int, RandomState instance or None, default=None\n",
       "    Determines random number generation for centroid initialization. Use\n",
       "    an int to make the randomness deterministic.\n",
       "    See :term:`Glossary <random_state>`.\n",
       "\n",
       "copy_x : bool, default=True\n",
       "    When pre-computing distances it is more numerically accurate to center\n",
       "    the data first. If copy_x is True (default), then the original data is\n",
       "    not modified. If False, the original data is modified, and put back\n",
       "    before the function returns, but small numerical differences may be\n",
       "    introduced by subtracting and then adding the data mean. Note that if\n",
       "    the original data is not C-contiguous, a copy will be made even if\n",
       "    copy_x is False. If the original data is sparse, but not in CSR format,\n",
       "    a copy will be made even if copy_x is False.\n",
       "\n",
       "algorithm : {\"lloyd\", \"elkan\", \"auto\", \"full\"}, default=\"lloyd\"\n",
       "    K-means algorithm to use. The classical EM-style algorithm is `\"lloyd\"`.\n",
       "    The `\"elkan\"` variation can be more efficient on some datasets with\n",
       "    well-defined clusters, by using the triangle inequality. However it's\n",
       "    more memory intensive due to the allocation of an extra array of shape\n",
       "    `(n_samples, n_clusters)`.\n",
       "\n",
       "    `\"auto\"` and `\"full\"` are deprecated and they will be removed in\n",
       "    Scikit-Learn 1.3. They are both aliases for `\"lloyd\"`.\n",
       "\n",
       "    .. versionchanged:: 0.18\n",
       "        Added Elkan algorithm\n",
       "\n",
       "    .. versionchanged:: 1.1\n",
       "        Renamed \"full\" to \"lloyd\", and deprecated \"auto\" and \"full\".\n",
       "        Changed \"auto\" to use \"lloyd\" instead of \"elkan\".\n",
       "\n",
       "Attributes\n",
       "----------\n",
       "cluster_centers_ : ndarray of shape (n_clusters, n_features)\n",
       "    Coordinates of cluster centers. If the algorithm stops before fully\n",
       "    converging (see ``tol`` and ``max_iter``), these will not be\n",
       "    consistent with ``labels_``.\n",
       "\n",
       "labels_ : ndarray of shape (n_samples,)\n",
       "    Labels of each point\n",
       "\n",
       "inertia_ : float\n",
       "    Sum of squared distances of samples to their closest cluster center,\n",
       "    weighted by the sample weights if provided.\n",
       "\n",
       "n_iter_ : int\n",
       "    Number of iterations run.\n",
       "\n",
       "n_features_in_ : int\n",
       "    Number of features seen during :term:`fit`.\n",
       "\n",
       "    .. versionadded:: 0.24\n",
       "\n",
       "feature_names_in_ : ndarray of shape (`n_features_in_`,)\n",
       "    Names of features seen during :term:`fit`. Defined only when `X`\n",
       "    has feature names that are all strings.\n",
       "\n",
       "    .. versionadded:: 1.0\n",
       "\n",
       "See Also\n",
       "--------\n",
       "MiniBatchKMeans : Alternative online implementation that does incremental\n",
       "    updates of the centers positions using mini-batches.\n",
       "    For large scale learning (say n_samples > 10k) MiniBatchKMeans is\n",
       "    probably much faster than the default batch implementation.\n",
       "\n",
       "Notes\n",
       "-----\n",
       "The k-means problem is solved using either Lloyd's or Elkan's algorithm.\n",
       "\n",
       "The average complexity is given by O(k n T), where n is the number of\n",
       "samples and T is the number of iteration.\n",
       "\n",
       "The worst case complexity is given by O(n^(k+2/p)) with\n",
       "n = n_samples, p = n_features.\n",
       "Refer to :doi:`\"How slow is the k-means method?\" D. Arthur and S. Vassilvitskii -\n",
       "SoCG2006.<10.1145/1137856.1137880>` for more details.\n",
       "\n",
       "In practice, the k-means algorithm is very fast (one of the fastest\n",
       "clustering algorithms available), but it falls in local minima. That's why\n",
       "it can be useful to restart it several times.\n",
       "\n",
       "If the algorithm stops before fully converging (because of ``tol`` or\n",
       "``max_iter``), ``labels_`` and ``cluster_centers_`` will not be consistent,\n",
       "i.e. the ``cluster_centers_`` will not be the means of the points in each\n",
       "cluster. Also, the estimator will reassign ``labels_`` after the last\n",
       "iteration to make ``labels_`` consistent with ``predict`` on the training\n",
       "set.\n",
       "\n",
       "Examples\n",
       "--------\n",
       "\n",
       ">>> from sklearn.cluster import KMeans\n",
       ">>> import numpy as np\n",
       ">>> X = np.array([[1, 2], [1, 4], [1, 0],\n",
       "...               [10, 2], [10, 4], [10, 0]])\n",
       ">>> kmeans = KMeans(n_clusters=2, random_state=0, n_init=\"auto\").fit(X)\n",
       ">>> kmeans.labels_\n",
       "array([1, 1, 1, 0, 0, 0], dtype=int32)\n",
       ">>> kmeans.predict([[0, 0], [12, 3]])\n",
       "array([1, 0], dtype=int32)\n",
       ">>> kmeans.cluster_centers_\n",
       "array([[10.,  2.],\n",
       "       [ 1.,  2.]])\n",
       "\u001b[0;31mFile:\u001b[0m           ~/.pyenv/versions/hima/lib/python3.9/site-packages/sklearn/cluster/_kmeans.py\n",
       "\u001b[0;31mType:\u001b[0m           ABCMeta\n",
       "\u001b[0;31mSubclasses:\u001b[0m     "
      ]
     },
     "metadata": {},
     "output_type": "display_data"
    }
   ],
   "source": [
    "KMeans?"
   ]
  },
  {
   "cell_type": "code",
   "execution_count": 7,
   "id": "bc53c99c-132d-4910-8d85-f312f85f37e7",
   "metadata": {
    "tags": []
   },
   "outputs": [],
   "source": [
    "kmeans = KMeans(n_clusters=10, random_state=0, verbose=1)"
   ]
  },
  {
   "cell_type": "code",
   "execution_count": 8,
   "id": "d3c4773a-9dc6-476c-a7de-1de652c21e2f",
   "metadata": {
    "tags": []
   },
   "outputs": [],
   "source": [
    "X = data.reshape(data.shape[0], -1)"
   ]
  },
  {
   "cell_type": "code",
   "execution_count": 9,
   "id": "f3204317-2465-44dd-9d5e-3ad90d011a72",
   "metadata": {
    "tags": []
   },
   "outputs": [
    {
     "data": {
      "text/plain": [
       "(41836, 12288)"
      ]
     },
     "execution_count": 9,
     "metadata": {},
     "output_type": "execute_result"
    }
   ],
   "source": [
    "X.shape"
   ]
  },
  {
   "cell_type": "code",
   "execution_count": 10,
   "id": "1cc6134a-55fd-441b-9cd6-8c0cb579a18c",
   "metadata": {
    "tags": []
   },
   "outputs": [
    {
     "name": "stderr",
     "output_type": "stream",
     "text": [
      "/home/evgenio/.pyenv/versions/hima/lib/python3.9/site-packages/sklearn/cluster/_kmeans.py:870: FutureWarning: The default value of `n_init` will change from 10 to 'auto' in 1.4. Set the value of `n_init` explicitly to suppress the warning\n",
      "  warnings.warn(\n"
     ]
    },
    {
     "name": "stdout",
     "output_type": "stream",
     "text": [
      "Initialization complete\n",
      "Iteration 0, inertia 3948456.0.\n",
      "Iteration 1, inertia 2509228.25.\n",
      "Iteration 2, inertia 2463923.75.\n",
      "Iteration 3, inertia 2440011.75.\n",
      "Iteration 4, inertia 2436373.25.\n",
      "Iteration 5, inertia 2435143.5.\n",
      "Iteration 6, inertia 2433637.25.\n",
      "Iteration 7, inertia 2432548.0.\n",
      "Iteration 8, inertia 2432013.25.\n",
      "Iteration 9, inertia 2431696.5.\n",
      "Iteration 10, inertia 2431440.75.\n",
      "Iteration 11, inertia 2431354.75.\n",
      "Iteration 12, inertia 2431340.25.\n",
      "Iteration 13, inertia 2431338.0.\n",
      "Iteration 14, inertia 2431337.0.\n",
      "Converged at iteration 14: strict convergence.\n",
      "Initialization complete\n",
      "Iteration 0, inertia 3808464.25.\n",
      "Iteration 1, inertia 2551446.0.\n",
      "Iteration 2, inertia 2496661.5.\n",
      "Iteration 3, inertia 2471650.0.\n",
      "Iteration 4, inertia 2453664.75.\n",
      "Iteration 5, inertia 2449386.0.\n",
      "Iteration 6, inertia 2448010.5.\n",
      "Iteration 7, inertia 2447524.0.\n",
      "Iteration 8, inertia 2447439.75.\n",
      "Iteration 9, inertia 2447347.75.\n",
      "Iteration 10, inertia 2446949.25.\n",
      "Iteration 11, inertia 2444991.5.\n",
      "Iteration 12, inertia 2439830.0.\n",
      "Iteration 13, inertia 2435855.75.\n",
      "Iteration 14, inertia 2435705.5.\n",
      "Iteration 15, inertia 2435687.5.\n",
      "Iteration 16, inertia 2435686.0.\n",
      "Iteration 17, inertia 2435684.75.\n",
      "Converged at iteration 17: strict convergence.\n",
      "Initialization complete\n",
      "Iteration 0, inertia 4363306.0.\n",
      "Iteration 1, inertia 2557042.0.\n",
      "Iteration 2, inertia 2523817.0.\n",
      "Iteration 3, inertia 2503937.0.\n",
      "Iteration 4, inertia 2480562.5.\n",
      "Iteration 5, inertia 2477198.5.\n",
      "Iteration 6, inertia 2475113.75.\n",
      "Iteration 7, inertia 2471999.25.\n",
      "Iteration 8, inertia 2466775.25.\n",
      "Iteration 9, inertia 2463466.75.\n",
      "Iteration 10, inertia 2454032.5.\n",
      "Iteration 11, inertia 2450664.75.\n",
      "Iteration 12, inertia 2448209.75.\n",
      "Iteration 13, inertia 2444724.5.\n",
      "Iteration 14, inertia 2444162.5.\n",
      "Iteration 15, inertia 2444066.25.\n",
      "Iteration 16, inertia 2444046.5.\n",
      "Iteration 17, inertia 2444041.0.\n",
      "Iteration 18, inertia 2444031.75.\n",
      "Iteration 19, inertia 2444028.0.\n",
      "Iteration 20, inertia 2444026.0.\n",
      "Iteration 21, inertia 2444022.25.\n",
      "Iteration 22, inertia 2444021.5.\n",
      "Iteration 23, inertia 2444021.25.\n",
      "Iteration 24, inertia 2444021.25.\n",
      "Iteration 25, inertia 2444020.25.\n",
      "Iteration 26, inertia 2444020.0.\n",
      "Converged at iteration 26: strict convergence.\n",
      "Initialization complete\n",
      "Iteration 0, inertia 3919851.5.\n",
      "Iteration 1, inertia 2514441.0.\n",
      "Iteration 2, inertia 2472880.25.\n",
      "Iteration 3, inertia 2459331.0.\n",
      "Iteration 4, inertia 2449296.75.\n",
      "Iteration 5, inertia 2439841.0.\n",
      "Iteration 6, inertia 2435909.5.\n",
      "Iteration 7, inertia 2434636.25.\n",
      "Iteration 8, inertia 2434505.5.\n",
      "Iteration 9, inertia 2434415.0.\n",
      "Iteration 10, inertia 2434017.0.\n",
      "Iteration 11, inertia 2433055.5.\n",
      "Iteration 12, inertia 2432441.0.\n",
      "Iteration 13, inertia 2432151.25.\n",
      "Iteration 14, inertia 2432028.0.\n",
      "Iteration 15, inertia 2431991.0.\n",
      "Iteration 16, inertia 2431981.0.\n",
      "Iteration 17, inertia 2431977.25.\n",
      "Iteration 18, inertia 2431975.5.\n",
      "Iteration 19, inertia 2431975.0.\n",
      "Iteration 20, inertia 2431974.75.\n",
      "Iteration 21, inertia 2431971.0.\n",
      "Iteration 22, inertia 2431971.75.\n",
      "Iteration 23, inertia 2431972.0.\n",
      "Iteration 24, inertia 2431971.5.\n",
      "Converged at iteration 24: strict convergence.\n",
      "Initialization complete\n",
      "Iteration 0, inertia 3994493.25.\n",
      "Iteration 1, inertia 2525093.0.\n",
      "Iteration 2, inertia 2471495.75.\n",
      "Iteration 3, inertia 2464083.0.\n",
      "Iteration 4, inertia 2460420.0.\n",
      "Iteration 5, inertia 2459298.0.\n",
      "Iteration 6, inertia 2457898.25.\n",
      "Iteration 7, inertia 2456214.5.\n",
      "Iteration 8, inertia 2455782.0.\n",
      "Iteration 9, inertia 2455708.5.\n",
      "Iteration 10, inertia 2455675.0.\n",
      "Iteration 11, inertia 2455640.75.\n",
      "Iteration 12, inertia 2455558.75.\n",
      "Iteration 13, inertia 2455540.5.\n",
      "Iteration 14, inertia 2455537.25.\n",
      "Iteration 15, inertia 2455538.5.\n",
      "Iteration 16, inertia 2455538.25.\n",
      "Iteration 17, inertia 2455537.0.\n",
      "Converged at iteration 17: strict convergence.\n",
      "Initialization complete\n",
      "Iteration 0, inertia 4017528.25.\n",
      "Iteration 1, inertia 2554036.5.\n",
      "Iteration 2, inertia 2502051.0.\n",
      "Iteration 3, inertia 2487586.25.\n",
      "Iteration 4, inertia 2482148.25.\n",
      "Iteration 5, inertia 2475162.0.\n",
      "Iteration 6, inertia 2449379.5.\n",
      "Iteration 7, inertia 2436518.25.\n",
      "Iteration 8, inertia 2433105.25.\n",
      "Iteration 9, inertia 2430000.5.\n",
      "Iteration 10, inertia 2427987.75.\n",
      "Iteration 11, inertia 2427277.0.\n",
      "Iteration 12, inertia 2426987.75.\n",
      "Iteration 13, inertia 2426698.25.\n",
      "Iteration 14, inertia 2426636.5.\n",
      "Iteration 15, inertia 2426621.25.\n",
      "Iteration 16, inertia 2426610.0.\n",
      "Iteration 17, inertia 2426603.25.\n",
      "Iteration 18, inertia 2426600.5.\n",
      "Iteration 19, inertia 2426599.25.\n",
      "Iteration 20, inertia 2426598.0.\n",
      "Iteration 21, inertia 2426598.0.\n",
      "Iteration 22, inertia 2426596.75.\n",
      "Iteration 23, inertia 2426596.0.\n",
      "Iteration 24, inertia 2426594.5.\n",
      "Iteration 25, inertia 2426591.75.\n",
      "Iteration 26, inertia 2426589.25.\n",
      "Iteration 27, inertia 2426581.75.\n",
      "Iteration 28, inertia 2426578.75.\n",
      "Iteration 29, inertia 2426578.25.\n",
      "Iteration 30, inertia 2426577.5.\n",
      "Iteration 31, inertia 2426575.75.\n",
      "Iteration 32, inertia 2426574.25.\n",
      "Iteration 33, inertia 2426572.25.\n",
      "Iteration 34, inertia 2426571.0.\n",
      "Iteration 35, inertia 2426570.75.\n",
      "Converged at iteration 35: strict convergence.\n",
      "Initialization complete\n",
      "Iteration 0, inertia 4110552.0.\n",
      "Iteration 1, inertia 2482658.0.\n",
      "Iteration 2, inertia 2460444.0.\n",
      "Iteration 3, inertia 2443490.25.\n",
      "Iteration 4, inertia 2433010.75.\n",
      "Iteration 5, inertia 2430660.5.\n",
      "Iteration 6, inertia 2430488.25.\n",
      "Iteration 7, inertia 2430459.5.\n",
      "Iteration 8, inertia 2430444.5.\n",
      "Iteration 9, inertia 2430423.25.\n",
      "Iteration 10, inertia 2430419.75.\n",
      "Iteration 11, inertia 2430419.0.\n",
      "Iteration 12, inertia 2430418.25.\n",
      "Iteration 13, inertia 2430418.25.\n",
      "Converged at iteration 13: strict convergence.\n",
      "Initialization complete\n",
      "Iteration 0, inertia 3818072.25.\n",
      "Iteration 1, inertia 2489777.25.\n",
      "Iteration 2, inertia 2454679.75.\n",
      "Iteration 3, inertia 2447251.25.\n",
      "Iteration 4, inertia 2445910.0.\n",
      "Iteration 5, inertia 2445554.75.\n",
      "Iteration 6, inertia 2445338.75.\n",
      "Iteration 7, inertia 2445155.0.\n",
      "Iteration 8, inertia 2445055.0.\n",
      "Iteration 9, inertia 2445014.25.\n",
      "Iteration 10, inertia 2445012.5.\n",
      "Iteration 11, inertia 2445009.5.\n",
      "Iteration 12, inertia 2445009.25.\n",
      "Converged at iteration 12: strict convergence.\n",
      "Initialization complete\n",
      "Iteration 0, inertia 4008574.0.\n",
      "Iteration 1, inertia 2504980.75.\n",
      "Iteration 2, inertia 2479178.5.\n",
      "Iteration 3, inertia 2476885.75.\n",
      "Iteration 4, inertia 2476156.0.\n",
      "Iteration 5, inertia 2475517.25.\n",
      "Iteration 6, inertia 2475407.75.\n",
      "Iteration 7, inertia 2475399.75.\n",
      "Iteration 8, inertia 2475397.25.\n",
      "Iteration 9, inertia 2475396.0.\n",
      "Converged at iteration 9: strict convergence.\n",
      "Initialization complete\n",
      "Iteration 0, inertia 4195008.5.\n",
      "Iteration 1, inertia 2544246.75.\n",
      "Iteration 2, inertia 2507336.0.\n",
      "Iteration 3, inertia 2497107.5.\n",
      "Iteration 4, inertia 2492884.75.\n",
      "Iteration 5, inertia 2491018.75.\n",
      "Iteration 6, inertia 2488821.5.\n",
      "Iteration 7, inertia 2487228.0.\n",
      "Iteration 8, inertia 2486367.25.\n",
      "Iteration 9, inertia 2485852.0.\n",
      "Iteration 10, inertia 2485655.25.\n",
      "Iteration 11, inertia 2485487.75.\n",
      "Iteration 12, inertia 2485307.0.\n",
      "Iteration 13, inertia 2485206.75.\n",
      "Iteration 14, inertia 2485201.5.\n",
      "Iteration 15, inertia 2485202.0.\n",
      "Iteration 16, inertia 2485201.75.\n",
      "Converged at iteration 16: strict convergence.\n"
     ]
    },
    {
     "data": {
      "text/html": [
       "<style>#sk-container-id-1 {color: black;background-color: white;}#sk-container-id-1 pre{padding: 0;}#sk-container-id-1 div.sk-toggleable {background-color: white;}#sk-container-id-1 label.sk-toggleable__label {cursor: pointer;display: block;width: 100%;margin-bottom: 0;padding: 0.3em;box-sizing: border-box;text-align: center;}#sk-container-id-1 label.sk-toggleable__label-arrow:before {content: \"▸\";float: left;margin-right: 0.25em;color: #696969;}#sk-container-id-1 label.sk-toggleable__label-arrow:hover:before {color: black;}#sk-container-id-1 div.sk-estimator:hover label.sk-toggleable__label-arrow:before {color: black;}#sk-container-id-1 div.sk-toggleable__content {max-height: 0;max-width: 0;overflow: hidden;text-align: left;background-color: #f0f8ff;}#sk-container-id-1 div.sk-toggleable__content pre {margin: 0.2em;color: black;border-radius: 0.25em;background-color: #f0f8ff;}#sk-container-id-1 input.sk-toggleable__control:checked~div.sk-toggleable__content {max-height: 200px;max-width: 100%;overflow: auto;}#sk-container-id-1 input.sk-toggleable__control:checked~label.sk-toggleable__label-arrow:before {content: \"▾\";}#sk-container-id-1 div.sk-estimator input.sk-toggleable__control:checked~label.sk-toggleable__label {background-color: #d4ebff;}#sk-container-id-1 div.sk-label input.sk-toggleable__control:checked~label.sk-toggleable__label {background-color: #d4ebff;}#sk-container-id-1 input.sk-hidden--visually {border: 0;clip: rect(1px 1px 1px 1px);clip: rect(1px, 1px, 1px, 1px);height: 1px;margin: -1px;overflow: hidden;padding: 0;position: absolute;width: 1px;}#sk-container-id-1 div.sk-estimator {font-family: monospace;background-color: #f0f8ff;border: 1px dotted black;border-radius: 0.25em;box-sizing: border-box;margin-bottom: 0.5em;}#sk-container-id-1 div.sk-estimator:hover {background-color: #d4ebff;}#sk-container-id-1 div.sk-parallel-item::after {content: \"\";width: 100%;border-bottom: 1px solid gray;flex-grow: 1;}#sk-container-id-1 div.sk-label:hover label.sk-toggleable__label {background-color: #d4ebff;}#sk-container-id-1 div.sk-serial::before {content: \"\";position: absolute;border-left: 1px solid gray;box-sizing: border-box;top: 0;bottom: 0;left: 50%;z-index: 0;}#sk-container-id-1 div.sk-serial {display: flex;flex-direction: column;align-items: center;background-color: white;padding-right: 0.2em;padding-left: 0.2em;position: relative;}#sk-container-id-1 div.sk-item {position: relative;z-index: 1;}#sk-container-id-1 div.sk-parallel {display: flex;align-items: stretch;justify-content: center;background-color: white;position: relative;}#sk-container-id-1 div.sk-item::before, #sk-container-id-1 div.sk-parallel-item::before {content: \"\";position: absolute;border-left: 1px solid gray;box-sizing: border-box;top: 0;bottom: 0;left: 50%;z-index: -1;}#sk-container-id-1 div.sk-parallel-item {display: flex;flex-direction: column;z-index: 1;position: relative;background-color: white;}#sk-container-id-1 div.sk-parallel-item:first-child::after {align-self: flex-end;width: 50%;}#sk-container-id-1 div.sk-parallel-item:last-child::after {align-self: flex-start;width: 50%;}#sk-container-id-1 div.sk-parallel-item:only-child::after {width: 0;}#sk-container-id-1 div.sk-dashed-wrapped {border: 1px dashed gray;margin: 0 0.4em 0.5em 0.4em;box-sizing: border-box;padding-bottom: 0.4em;background-color: white;}#sk-container-id-1 div.sk-label label {font-family: monospace;font-weight: bold;display: inline-block;line-height: 1.2em;}#sk-container-id-1 div.sk-label-container {text-align: center;}#sk-container-id-1 div.sk-container {/* jupyter's `normalize.less` sets `[hidden] { display: none; }` but bootstrap.min.css set `[hidden] { display: none !important; }` so we also need the `!important` here to be able to override the default hidden behavior on the sphinx rendered scikit-learn.org. See: https://github.com/scikit-learn/scikit-learn/issues/21755 */display: inline-block !important;position: relative;}#sk-container-id-1 div.sk-text-repr-fallback {display: none;}</style><div id=\"sk-container-id-1\" class=\"sk-top-container\"><div class=\"sk-text-repr-fallback\"><pre>KMeans(n_clusters=10, random_state=0, verbose=1)</pre><b>In a Jupyter environment, please rerun this cell to show the HTML representation or trust the notebook. <br />On GitHub, the HTML representation is unable to render, please try loading this page with nbviewer.org.</b></div><div class=\"sk-container\" hidden><div class=\"sk-item\"><div class=\"sk-estimator sk-toggleable\"><input class=\"sk-toggleable__control sk-hidden--visually\" id=\"sk-estimator-id-1\" type=\"checkbox\" checked><label for=\"sk-estimator-id-1\" class=\"sk-toggleable__label sk-toggleable__label-arrow\">KMeans</label><div class=\"sk-toggleable__content\"><pre>KMeans(n_clusters=10, random_state=0, verbose=1)</pre></div></div></div></div></div>"
      ],
      "text/plain": [
       "KMeans(n_clusters=10, random_state=0, verbose=1)"
      ]
     },
     "execution_count": 10,
     "metadata": {},
     "output_type": "execute_result"
    }
   ],
   "source": [
    "kmeans.fit(X)"
   ]
  },
  {
   "cell_type": "code",
   "execution_count": 16,
   "id": "c30c5b66-1c43-4f20-86d6-48a5c968b537",
   "metadata": {
    "tags": []
   },
   "outputs": [
    {
     "data": {
      "text/plain": [
       "array([24], dtype=int32)"
      ]
     },
     "execution_count": 16,
     "metadata": {},
     "output_type": "execute_result"
    }
   ],
   "source": [
    "kmeans.predict(X[434][None])"
   ]
  },
  {
   "cell_type": "code",
   "execution_count": 18,
   "id": "b4730688-7812-4a0d-a440-6288b41f6764",
   "metadata": {
    "tags": []
   },
   "outputs": [
    {
     "data": {
      "text/plain": [
       "\u001b[0;31mSignature:\u001b[0m \u001b[0mkmeans\u001b[0m\u001b[0;34m.\u001b[0m\u001b[0mpredict\u001b[0m\u001b[0;34m(\u001b[0m\u001b[0mX\u001b[0m\u001b[0;34m,\u001b[0m \u001b[0msample_weight\u001b[0m\u001b[0;34m=\u001b[0m\u001b[0;32mNone\u001b[0m\u001b[0;34m)\u001b[0m\u001b[0;34m\u001b[0m\u001b[0;34m\u001b[0m\u001b[0m\n",
       "\u001b[0;31mDocstring:\u001b[0m\n",
       "Predict the closest cluster each sample in X belongs to.\n",
       "\n",
       "In the vector quantization literature, `cluster_centers_` is called\n",
       "the code book and each value returned by `predict` is the index of\n",
       "the closest code in the code book.\n",
       "\n",
       "Parameters\n",
       "----------\n",
       "X : {array-like, sparse matrix} of shape (n_samples, n_features)\n",
       "    New data to predict.\n",
       "\n",
       "sample_weight : array-like of shape (n_samples,), default=None\n",
       "    The weights for each observation in X. If None, all observations\n",
       "    are assigned equal weight.\n",
       "\n",
       "Returns\n",
       "-------\n",
       "labels : ndarray of shape (n_samples,)\n",
       "    Index of the cluster each sample belongs to.\n",
       "\u001b[0;31mFile:\u001b[0m      ~/.pyenv/versions/hima/lib/python3.9/site-packages/sklearn/cluster/_kmeans.py\n",
       "\u001b[0;31mType:\u001b[0m      method"
      ]
     },
     "metadata": {},
     "output_type": "display_data"
    }
   ],
   "source": [
    "kmeans.predict?"
   ]
  },
  {
   "cell_type": "code",
   "execution_count": 11,
   "id": "7a37fa3d-f183-4ae7-8762-a08bf9577650",
   "metadata": {
    "tags": []
   },
   "outputs": [],
   "source": [
    "import pickle"
   ]
  },
  {
   "cell_type": "code",
   "execution_count": 12,
   "id": "c2d748df-02d9-4da2-840a-1f8e1b9f746e",
   "metadata": {
    "tags": []
   },
   "outputs": [],
   "source": [
    "with open('kmeans_checkpoint3_10.pkl', 'wb') as file:\n",
    "    pickle.dump(kmeans, file)"
   ]
  },
  {
   "cell_type": "code",
   "execution_count": null,
   "id": "4b35667d-0695-4ff5-b6c5-243d5322b22a",
   "metadata": {},
   "outputs": [],
   "source": []
  }
 ],
 "metadata": {
  "kernelspec": {
   "display_name": "Python 3 (ipykernel)",
   "language": "python",
   "name": "python3"
  },
  "language_info": {
   "codemirror_mode": {
    "name": "ipython",
    "version": 3
   },
   "file_extension": ".py",
   "mimetype": "text/x-python",
   "name": "python",
   "nbconvert_exporter": "python",
   "pygments_lexer": "ipython3",
   "version": "3.9.16"
  }
 },
 "nbformat": 4,
 "nbformat_minor": 5
}
